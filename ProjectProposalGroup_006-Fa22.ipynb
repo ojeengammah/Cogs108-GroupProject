{
  "cells": [
    {
      "cell_type": "markdown",
      "metadata": {
        "id": "ZkQCKKFWM9hY"
      },
      "source": [
        "# COGS 108 - Final Project Proposal"
      ]
    },
    {
      "cell_type": "markdown",
      "metadata": {
        "id": "mv-9wSH5M9hb"
      },
      "source": [
        "# Names\n",
        "\n",
        "- Aung Kyaw\n",
        "- Ojeen Gammah\n",
        "- Hyunmin Lim\n",
        "- Anthony Yiu\n",
        "- Tina Nguyen"
      ]
    },
    {
      "cell_type": "markdown",
      "metadata": {
        "id": "5MoigAW9M9hd"
      },
      "source": [
        "# Research Question"
      ]
    },
    {
      "cell_type": "markdown",
      "metadata": {
        "id": "UWKl6e78M9hd"
      },
      "source": [
        "\n",
        "How does the access to clean water and sanation affect the rate of intentional crimes? In other words what is the relationship between access to clean water and sanation with the rate of increased crimes?\n"
      ]
    },
    {
      "cell_type": "markdown",
      "metadata": {
        "id": "kUfHPgnhM9he"
      },
      "source": [
        "## Background and Prior Work"
      ]
    },
    {
      "cell_type": "markdown",
      "metadata": {
        "id": "vsZ-FT5AM9hf"
      },
      "source": [
        "\n",
        "[^1] We jumpstarted our ideas off of an article relating low intelligence and the prevelance of hookworm infections in the Southern United States region. [^2] Subsequent studies reinforced this link between decline of cognitive ability and hookworm infections. This led us to think about the relationship between parasitic organisms - which are generally more common in regions with poor sanitation - and the behavior of the general public. Since \"intelligence\" doesn't have an objective and definitive measure, we decided to use crime rate data, which is usually available from governmental bodies. Additionally, hookworm infections are too specific of a disease to be considered representative of cognitive function affecting parasites, so we decided to look at the more standardized measure of sanitation instead.\n",
        "\n",
        "[^1]: https://www.theguardian.com/us-news/2017/sep/05/hookworm-lowndes-county-alabama-water-waste-treatment-poverty\n",
        "\n",
        "[^2]: https://www.ncbi.nlm.nih.gov/pmc/articles/PMC2992705/\n",
        "\n",
        "Taking a look at previous wroks done on the movement of crimerate. We expored this study that deals with connections between poverty, inequality, and social expenditures to crime in 16 countries. Looking at the study we can see that GIP(growth-inequality-poverty) was used to understand the premise of crime rate. Compared to this study, our group takes a closer look at sanitation as it pertains to quality of life and expands on poverty.\n",
        "\n",
        "https://journalofeconomicstructures.springeropen.com/articles/10.1186/s40008-020-00220-6\n"
      ]
    },
    {
      "cell_type": "markdown",
      "metadata": {
        "id": "_jwY06rWM9hg"
      },
      "source": [
        "# Hypothesis\n"
      ]
    },
    {
      "cell_type": "markdown",
      "metadata": {
        "id": "UQjg6PeXM9hh"
      },
      "source": [
        "\n",
        "We predict that decreased access to clean water and sanation will result in an increased in the rate of intentional crimes however an increased access to clean water and sanation may not result in a decrease in intentional crimes as there could be other factors affecting its increase."
      ]
    },
    {
      "cell_type": "markdown",
      "metadata": {
        "id": "kYEtpgZEM9hh"
      },
      "source": [
        "# Data"
      ]
    },
    {
      "cell_type": "markdown",
      "metadata": {
        "id": "mKXz5YItM9hi"
      },
      "source": [
        "1. Ideal data set would be a dataset that includes in the columns the crime rate in a certain percentage per 100,000, the cleanliness of the water (in terms of service level) and access to sanitation (% of population access). In the rows we will add the regions. This will ensure that we have a simplified dataset we can use to see the correlation.\n",
        "1. Real Datasets <br>\n",
        "  1. Household Access to Clean Water/Sanitation: https://washdata.org/data/household#!/table?geo0=region&geo1=sdg \n",
        "  2. Crime Rate: https://data.un.org/_Docs/SYB/PDFs/SYB64_328_202110_Intentional%20homicides%20and%20other%20crimes.pdf \n",
        "  3. Potential problems could be that between the two dataset there are some differences in the categorization of regions. Another problem is with the vague measurements of sanitation. "
      ]
    },
    {
      "cell_type": "markdown",
      "metadata": {
        "id": "M9yC6GTqM9hj"
      },
      "source": [
        "# Ethics & Privacy"
      ]
    },
    {
      "cell_type": "markdown",
      "metadata": {
        "id": "l2619DaHM9hj"
      },
      "source": [
        "- Intentional Crime Rates:\n",
        " - Informed Consent: \n",
        "    - It is government data so the criminal don't have a say in the collection of their data. It depends on the government and its own internal regulations on which information they keep public.\n",
        " - Collection Bias:\n",
        "    - The reported crime rate included in the dataset might not be representative of the true crime rate due to the differing rate of public trust in police, corruption and avaliable resources which might end up underreporting crimes. \n",
        "  - Unintentional Use:\n",
        "    - People could use the dataset as an excuse to deem a country as undeveloped or deny it economic development due to those its high crime rate.\n",
        "- Household access to Clean Water/Sanitation/Hygiene:\n",
        "  - Informed Consent:\n",
        "    - UNICEF gets the data either from surveys where the users give consent or from government data where the question of consent just depends on the data collection method of the government.\n",
        "  - Collection Bias:\n",
        "    - If UNICEF gives out surveys for people to fill potentially people could underreport or overreport the problems on sanitation/clean water due to people's own biases.\n",
        "    - If UNICEF gets the data from governments they may have a reason to overreport their problems to have higher priority when getting aid. \n",
        "- In terms of data privacy for our analysis we don't think there are any issues other than the those listed above for the specific datasets we are referencing. There are some ethical concerns regarding our analysis due to potential biases with our datasets but we lack the necessary resources to solve them due to them being up to the governments of each country. We handled these ethical concerns by stating the facts from our datasets and will do our analysis from the datasets in order to answer our question while being as unbiased as possible. \n",
        "\n"
      ]
    },
    {
      "cell_type": "markdown",
      "metadata": {
        "id": "08jxQCKrM9hj"
      },
      "source": [
        "# Team Expectations "
      ]
    },
    {
      "cell_type": "markdown",
      "metadata": {
        "id": "-JgjdzieM9hu"
      },
      "source": [
        "\n",
        "Read over the [COGS108 Team Policies](https://github.com/COGS108/Projects/blob/master/COGS108_TeamPolicies.md) individually. Then, include your group’s expectations of one another for successful completion of your COGS108 project below. Discuss and agree on what all of your expectations are. Discuss how your team will communicate throughout the quarter and consider how you will communicate respectfully should conflicts arise. By including each member’s name above and by adding their name to the submission, you are indicating that you have read the COGS108 Team Policies, accept your team’s expectations below, and have every intention to fulfill them. These expectations are for your team’s use and benefit — they won’t be graded for their details.\n",
        "\n",
        "* *Team Expectation 1*\n",
        "  - Being present at expected meeting times\n",
        "* *Team Expectation 2* \n",
        "  - Participating in team assignments and completing assigned/team work\n",
        "* *Team Expecation 3* \n",
        "  - Have clear communication for team expectations and work expected to avoid tea"
      ]
    },
    {
      "cell_type": "markdown",
      "metadata": {
        "id": "VzQzSdE4M9hv"
      },
      "source": [
        "# Project Timeline Proposal"
      ]
    },
    {
      "cell_type": "markdown",
      "metadata": {
        "id": "CSviVf-vM9hw"
      },
      "source": [
        "| Meeting Date  | Meeting Time| Completed Before Meeting  | Discuss at Meeting |\n",
        "|---|---|---|---|\n",
        "| 10/16 |  9 AM | Read & Think about COGS 108 expectations; brainstorm topics/questions  | Determine best form of communication; Discuss and decide on final project topic; discuss hypothesis; begin background research | \n",
        "| 10/16  |  9 AM |  Do background research on topic | Discuss ideal dataset(s) and ethics; draft project proposal | \n",
        "| 10/24  | 11 AM  | Edit, finalize, and submit proposal; Search for datasets  | Discuss Wrangling and possible analytical approaches; Assign group members to lead each specific part   |\n",
        "| 11/6  | 9 AM  | Import & Wrangle Data (Aung); EDA | Review/Edit wrangling/EDA; Discuss Analysis Plan   |\n",
        "| 11/20  | 9 AM  | Finalize wrangling (Hyumin, Ojeen)/EDA; Begin Analysis(Tina, Anthony) | Discuss/edit Analysis; Complete project check-in |\n",
        "| 11/28  | 11 AM  | Complete analysis; Draft results/conclusion/discussion | Discuss/edit full project |\n",
        "| 12/8  | Before 11:59 PM  | NA | Turn in Final Project & Group Project Surveys |"
      ]
    },
    {
      "cell_type": "code",
      "execution_count": null,
      "metadata": {
        "id": "Ia4ldLX2M9hx"
      },
      "outputs": [],
      "source": []
    }
  ],
  "metadata": {
    "kernelspec": {
      "display_name": "Python 3.9.10 64-bit",
      "language": "python",
      "name": "python3"
    },
    "language_info": {
      "codemirror_mode": {
        "name": "ipython",
        "version": 3
      },
      "file_extension": ".py",
      "mimetype": "text/x-python",
      "name": "python",
      "nbconvert_exporter": "python",
      "pygments_lexer": "ipython3",
      "version": "3.9.10"
    },
    "vscode": {
      "interpreter": {
        "hash": "11d67f7a2d300cf6bd0a2a12e447c59815496e980af929b345d9697bcb48a19b"
      }
    },
    "colab": {
      "provenance": [],
      "collapsed_sections": []
    }
  },
  "nbformat": 4,
  "nbformat_minor": 0
}